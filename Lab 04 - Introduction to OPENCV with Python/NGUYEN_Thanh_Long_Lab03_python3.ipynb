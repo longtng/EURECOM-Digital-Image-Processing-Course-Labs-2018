{
 "cells": [
  {
   "cell_type": "markdown",
   "metadata": {},
   "source": [
    "## Lab Session 03 - OpenCV with Python submission\n",
    "<p>NGUYEN Thanh-Long </p>\n",
    "<p>nguyenta@eurecom.fr </p>"
   ]
  },
  {
   "cell_type": "code",
   "execution_count": 1,
   "metadata": {},
   "outputs": [],
   "source": [
    "import cv2\n",
    "import numpy as np"
   ]
  },
  {
   "cell_type": "code",
   "execution_count": 7,
   "metadata": {},
   "outputs": [],
   "source": [
    "from PIL import Image, ImageFilter"
   ]
  },
  {
   "cell_type": "code",
   "execution_count": 8,
   "metadata": {},
   "outputs": [],
   "source": [
    "path=\"/Users/longng/Google Drive/EURECOM/Semester 1 - FALL 2018/03 IMPROC - Digital Image Processing/Lab/20181023 Week 4/Baboon.jpg\"\n",
    "img = cv2.imread(path)"
   ]
  },
  {
   "cell_type": "code",
   "execution_count": 16,
   "metadata": {},
   "outputs": [],
   "source": [
    "cv2.imshow('Original',img)\n",
    "cv2.waitKey(0)\n",
    "cv2.destroyAllWindows() #press esc to exit"
   ]
  },
  {
   "cell_type": "markdown",
   "metadata": {},
   "source": [
    "**Call the appropriate function in OPENCV to convert the image to grayscale**"
   ]
  },
  {
   "cell_type": "code",
   "execution_count": 10,
   "metadata": {},
   "outputs": [],
   "source": [
    "gray = cv2.cvtColor(img, cv2.COLOR_BGR2GRAY)"
   ]
  },
  {
   "cell_type": "markdown",
   "metadata": {},
   "source": [
    "**Create a window called \"Grayscale Image\" and show grayscale image**\n"
   ]
  },
  {
   "cell_type": "code",
   "execution_count": 18,
   "metadata": {},
   "outputs": [],
   "source": [
    "cv2.imshow('Grayscale Image',gray)\n",
    "cv2.waitKey(0)\n",
    "cv2.destroyAllWindows()"
   ]
  },
  {
   "cell_type": "markdown",
   "metadata": {},
   "source": [
    "**Apply histogram equalization to the grayscale image**"
   ]
  },
  {
   "cell_type": "code",
   "execution_count": 22,
   "metadata": {},
   "outputs": [],
   "source": [
    "equ = cv2.equalizeHist(gray)"
   ]
  },
  {
   "cell_type": "markdown",
   "metadata": {},
   "source": [
    "**Create a window called \"Image After Histogram Equalization\" and show the image after histogram equalization**"
   ]
  },
  {
   "cell_type": "code",
   "execution_count": 23,
   "metadata": {},
   "outputs": [],
   "source": [
    "cv2.imshow('Image After Histogram Equalization',equ)\n",
    "cv2.waitKey(0)\n",
    "cv2.destroyAllWindows()"
   ]
  },
  {
   "cell_type": "markdown",
   "metadata": {},
   "source": [
    "**Apply upside down operation to the image for which histogram equalization is applied.**"
   ]
  },
  {
   "cell_type": "code",
   "execution_count": 24,
   "metadata": {},
   "outputs": [],
   "source": [
    "horizontal_img = cv2.flip(equ, 0)"
   ]
  },
  {
   "cell_type": "markdown",
   "metadata": {},
   "source": [
    "**Create a window called \"Remap - upside down\" and show the image after applying remapping - upside down**"
   ]
  },
  {
   "cell_type": "code",
   "execution_count": 25,
   "metadata": {},
   "outputs": [],
   "source": [
    "cv2.imshow('Remap - upside down',horizontal_img)\n",
    "cv2.waitKey(0)\n",
    "cv2.destroyAllWindows()"
   ]
  },
  {
   "cell_type": "markdown",
   "metadata": {},
   "source": [
    "**Apply reflection in the x direction operation to the image for which histogram equalization is applied.**"
   ]
  },
  {
   "cell_type": "code",
   "execution_count": 28,
   "metadata": {},
   "outputs": [],
   "source": [
    "vertical_img = cv2.flip(equ,1)"
   ]
  },
  {
   "cell_type": "markdown",
   "metadata": {},
   "source": [
    "**Create a window called \"Remap - reflection in the x direction\" and show the image after applying remapping - reflection in the x direction**"
   ]
  },
  {
   "cell_type": "code",
   "execution_count": 29,
   "metadata": {},
   "outputs": [],
   "source": [
    "cv2.imshow('Remap - reflection in the x direction',vertical_img)\n",
    "cv2.waitKey(0)\n",
    "cv2.destroyAllWindows()"
   ]
  },
  {
   "cell_type": "markdown",
   "metadata": {},
   "source": [
    "**Apply Median Filter to the Image for which histogram equalization is applied**"
   ]
  },
  {
   "cell_type": "code",
   "execution_count": 36,
   "metadata": {},
   "outputs": [],
   "source": [
    "median = cv2.medianBlur(equ,5)"
   ]
  },
  {
   "cell_type": "markdown",
   "metadata": {},
   "source": [
    "**Create a window called \"Median Filtered Image\" and show the image after applying median filtering**"
   ]
  },
  {
   "cell_type": "code",
   "execution_count": 37,
   "metadata": {},
   "outputs": [],
   "source": [
    "cv2.imshow('Median Filtered Image',median)\n",
    "cv2.waitKey(0)\n",
    "cv2.destroyAllWindows()"
   ]
  },
  {
   "cell_type": "markdown",
   "metadata": {},
   "source": [
    "**Remove noise from the image for which histogram equalization is applied by blurring with a Gaussian filter**"
   ]
  },
  {
   "cell_type": "code",
   "execution_count": 50,
   "metadata": {},
   "outputs": [],
   "source": [
    "blur = cv2.GaussianBlur(equ,(3,3),5)"
   ]
  },
  {
   "cell_type": "markdown",
   "metadata": {},
   "source": [
    "**Create a window called \"Gaussian Filtered Image\" and show the image after applying Gaussian filtering**"
   ]
  },
  {
   "cell_type": "code",
   "execution_count": 51,
   "metadata": {},
   "outputs": [],
   "source": [
    "cv2.imshow('Gaussian Filtered Image',blur)\n",
    "cv2.waitKey(0)\n",
    "cv2.destroyAllWindows()"
   ]
  },
  {
   "cell_type": "markdown",
   "metadata": {},
   "source": [
    "**Apply Laplace function to compute the edge image using the Laplace Operator**"
   ]
  },
  {
   "cell_type": "code",
   "execution_count": 145,
   "metadata": {},
   "outputs": [],
   "source": [
    "laplacian = cv2.Laplacian(blur,cv2.CV_16S,ksize=3,scale=1, delta=0)\n",
    "lapl = cv2.convertScaleAbs(laplacian)"
   ]
  },
  {
   "cell_type": "markdown",
   "metadata": {},
   "source": [
    "**Create window called \"Laplace Demo\" and show the edge image after applying Laplace Operator**"
   ]
  },
  {
   "cell_type": "code",
   "execution_count": 146,
   "metadata": {},
   "outputs": [],
   "source": [
    "cv2.imshow('Laplace Demo',lapl)\n",
    "cv2.waitKey(0)\n",
    "cv2.destroyAllWindows()"
   ]
  },
  {
   "cell_type": "markdown",
   "metadata": {},
   "source": [
    "Apply Sobel Edge Detection"
   ]
  },
  {
   "cell_type": "markdown",
   "metadata": {},
   "source": [
    "**Compute Gradient X**"
   ]
  },
  {
   "cell_type": "code",
   "execution_count": 94,
   "metadata": {},
   "outputs": [],
   "source": [
    "sobelx = cv2.Sobel(blur,cv2.CV_16S,1,0,3,ksize=3,scale=1, delta=0)\n",
    "grad_x = cv2.convertScaleAbs(sobelx)"
   ]
  },
  {
   "cell_type": "markdown",
   "metadata": {},
   "source": [
    "**Compute Gradient Y**"
   ]
  },
  {
   "cell_type": "code",
   "execution_count": 95,
   "metadata": {},
   "outputs": [],
   "source": [
    "sobely = cv2.Sobel(blur,cv2.CV_64F,0,1,3,ksize=3,scale=1, delta=0)\n",
    "grad_y = cv2.convertScaleAbs(sobely)"
   ]
  },
  {
   "cell_type": "markdown",
   "metadata": {},
   "source": [
    "**Compute Total Gradient (approximate)**"
   ]
  },
  {
   "cell_type": "code",
   "execution_count": 96,
   "metadata": {},
   "outputs": [],
   "source": [
    "grad=cv2.addWeighted(grad_x, 0.5, grad_y, 0.5, 0)"
   ]
  },
  {
   "cell_type": "markdown",
   "metadata": {},
   "source": [
    "**Create window called \"Sobel Demo - Simple Edge Detector\" and show Sobel edge detected image**"
   ]
  },
  {
   "cell_type": "code",
   "execution_count": 98,
   "metadata": {},
   "outputs": [],
   "source": [
    "cv2.imshow('Sobel Demo - Simple Edge Detector',grad)\n",
    "cv2.waitKey(0)\n",
    "cv2.destroyAllWindows()"
   ]
  },
  {
   "cell_type": "markdown",
   "metadata": {},
   "source": [
    "**Export images**"
   ]
  },
  {
   "cell_type": "code",
   "execution_count": 148,
   "metadata": {},
   "outputs": [],
   "source": [
    "grayc = cv2.cvtColor(gray,cv2.COLOR_GRAY2BGR)\n",
    "equc = cv2.cvtColor(equ,cv2.COLOR_GRAY2BGR)\n",
    "horizontal_imgc = cv2.cvtColor(horizontal_img,cv2.COLOR_GRAY2BGR)\n",
    "vertical_imgc = cv2.cvtColor(vertical_img,cv2.COLOR_GRAY2BGR)\n",
    "medianc = cv2.cvtColor(median,cv2.COLOR_GRAY2BGR)\n",
    "blurc = cv2.cvtColor(blur,cv2.COLOR_GRAY2BGR)\n",
    "laplc = cv2.cvtColor(lapl,cv2.COLOR_GRAY2BGR)\n",
    "gradc = cv2.cvtColor(grad,cv2.COLOR_GRAY2BGR)"
   ]
  },
  {
   "cell_type": "code",
   "execution_count": 156,
   "metadata": {},
   "outputs": [
    {
     "data": {
      "text/plain": [
       "True"
      ]
     },
     "execution_count": 156,
     "metadata": {},
     "output_type": "execute_result"
    }
   ],
   "source": [
    "output1 = np.hstack((img, grayc, equc))\n",
    "output2 = np.hstack((horizontal_imgc, vertical_imgc, medianc))\n",
    "output3 = np.hstack((blurc, laplc, gradc))\n",
    "output = np.concatenate((output1, output2, output3), axis=0)\n",
    "cv2.imwrite('NGUYEN_Thanh_Long_Lab03_image_output_report_python3.jpg',output)"
   ]
  }
 ],
 "metadata": {
  "kernelspec": {
   "display_name": "Python 3",
   "language": "python",
   "name": "python3"
  },
  "language_info": {
   "codemirror_mode": {
    "name": "ipython",
    "version": 3
   },
   "file_extension": ".py",
   "mimetype": "text/x-python",
   "name": "python",
   "nbconvert_exporter": "python",
   "pygments_lexer": "ipython3",
   "version": "3.5.6"
  }
 },
 "nbformat": 4,
 "nbformat_minor": 2
}
